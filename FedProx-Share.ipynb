{
 "cells": [
  {
   "cell_type": "code",
   "execution_count": 2,
   "id": "06951da9",
   "metadata": {},
   "outputs": [
    {
     "name": "stdout",
     "output_type": "stream",
     "text": [
      "Collecting tqdm\n",
      "  Downloading tqdm-4.66.2-py3-none-any.whl.metadata (57 kB)\n",
      "\u001b[2K     \u001b[90m━━━━━━━━━━━━━━━━━━━━━━━━━━━━━━━━━━━━━━━\u001b[0m \u001b[32m57.6/57.6 kB\u001b[0m \u001b[31m732.3 kB/s\u001b[0m eta \u001b[36m0:00:00\u001b[0ma \u001b[36m0:00:01\u001b[0m\n",
      "\u001b[?25hDownloading tqdm-4.66.2-py3-none-any.whl (78 kB)\n",
      "\u001b[2K   \u001b[90m━━━━━━━━━━━━━━━━━━━━━━━━━━━━━━━━━━━━━━━━\u001b[0m \u001b[32m78.3/78.3 kB\u001b[0m \u001b[31m2.7 MB/s\u001b[0m eta \u001b[36m0:00:00\u001b[0m\n",
      "\u001b[?25hInstalling collected packages: tqdm\n",
      "Successfully installed tqdm-4.66.2\n",
      "Note: you may need to restart the kernel to use updated packages.\n"
     ]
    }
   ],
   "source": [
    "pip install tqdm --upgrade"
   ]
  },
  {
   "cell_type": "code",
   "execution_count": 6,
   "id": "0aa1f2b0",
   "metadata": {},
   "outputs": [
    {
     "name": "stdout",
     "output_type": "stream",
     "text": [
      "Test set: Average loss: 2.2216, Accuracy: 1905/10000 (19%)\n",
      "Test set: Average loss: 2.1224, Accuracy: 3973/10000 (40%)\n",
      "Test set: Average loss: 2.0326, Accuracy: 5499/10000 (55%)\n",
      "Test set: Average loss: 1.9476, Accuracy: 6270/10000 (63%)\n",
      "Test set: Average loss: 1.8717, Accuracy: 6631/10000 (66%)\n",
      "Test set: Average loss: 1.7996, Accuracy: 6923/10000 (69%)\n",
      "Test set: Average loss: 1.7338, Accuracy: 7126/10000 (71%)\n",
      "Test set: Average loss: 1.6712, Accuracy: 7312/10000 (73%)\n",
      "Test set: Average loss: 1.6137, Accuracy: 7407/10000 (74%)\n",
      "Test set: Average loss: 1.5589, Accuracy: 7578/10000 (76%)\n",
      "Test set: Average loss: 1.5093, Accuracy: 7637/10000 (76%)\n",
      "Test set: Average loss: 1.4628, Accuracy: 7746/10000 (77%)\n",
      "Test set: Average loss: 1.4195, Accuracy: 7809/10000 (78%)\n",
      "Test set: Average loss: 1.3790, Accuracy: 7851/10000 (79%)\n",
      "Test set: Average loss: 1.3426, Accuracy: 7905/10000 (79%)\n",
      "Test set: Average loss: 1.3071, Accuracy: 7956/10000 (80%)\n",
      "Test set: Average loss: 1.2746, Accuracy: 7985/10000 (80%)\n",
      "Test set: Average loss: 1.2432, Accuracy: 8006/10000 (80%)\n",
      "Test set: Average loss: 1.2143, Accuracy: 8036/10000 (80%)\n",
      "Test set: Average loss: 1.1873, Accuracy: 8072/10000 (81%)\n"
     ]
    }
   ],
   "source": [
    "#import all of the libraries \n",
    "#pip install tqdm\n",
    "import torch\n",
    "import torchvision\n",
    "from torchvision.transforms import ToTensor\n",
    "from torch.utils.data import DataLoader, Subset\n",
    "import numpy as np\n",
    "import copy\n",
    "from tqdm import tqdm\n",
    "\n",
    "#define Preceptron for mnist (same 28by28 pixels and 10 classes)\n",
    "class SimplePerceptron(torch.nn.Module):\n",
    "    def __init__(self):\n",
    "        super(SimplePerceptron, self).__init__()\n",
    "        self.flatten = torch.nn.Flatten()\n",
    "        self.linear = torch.nn.Linear(28*28, 10)  # 28x28 pixels to 10 classes\n",
    "\n",
    "    def forward(self, x):\n",
    "        x = self.flatten(x)\n",
    "        x = self.linear(x)\n",
    "        return x\n",
    "\n",
    "#local model on client's dataset\n",
    "#proximal term in the loss calculation to keep the local model close to the global model\n",
    "#\n",
    "def train_local_model(model, device, train_loader, optimizer, epoch, mu, global_weights):\n",
    "    model.train()\n",
    "    criterion = torch.nn.CrossEntropyLoss()\n",
    "    for batch_idx, (data, target) in enumerate(train_loader):\n",
    "        data, target = data.to(device), target.to(device)\n",
    "        optimizer.zero_grad()\n",
    "        output = model(data)\n",
    "        loss = criterion(output, target)\n",
    "        \n",
    "        # Fixing the iteration over global_weights\n",
    "        proximal_term = 0.0\n",
    "        for param_key, param in model.named_parameters():\n",
    "            # Ensure we're comparing the same parameters by their names\n",
    "            global_param = global_weights[param_key]\n",
    "            proximal_term += (mu / 2) * torch.norm(param - global_param) ** 2\n",
    "        loss += proximal_term\n",
    "        \n",
    "        loss.backward()\n",
    "        optimizer.step()\n",
    "\n",
    "#evaluation of model\n",
    "def test_model(model, device, test_loader):\n",
    "    model.eval()\n",
    "    test_loss = 0\n",
    "    correct = 0\n",
    "    criterion = torch.nn.CrossEntropyLoss(reduction='sum')\n",
    "    with torch.no_grad():\n",
    "        for data, target in test_loader:\n",
    "            data, target = data.to(device), target.to(device)\n",
    "            output = model(data)\n",
    "            test_loss += criterion(output, target).item()\n",
    "            pred = output.argmax(dim=1, keepdim=True)\n",
    "            correct += pred.eq(target.view_as(pred)).sum().item()\n",
    "\n",
    "    test_loss /= len(test_loader.dataset)\n",
    "    accuracy = 100. * correct / len(test_loader.dataset)\n",
    "    print(f'Test set: Average loss: {test_loss:.4f}, Accuracy: {correct}/{len(test_loader.dataset)} ({accuracy:.0f}%)')\n",
    "    return test_loss, accuracy\n",
    "\n",
    "#fedprox-share training \n",
    "def fedprox_share_train(global_model, device, train_dataset, test_loader, epochs=1, mu=0.01, num_clients=10, frac=0.1):\n",
    "    global_weights = global_model.state_dict() #initial weights\n",
    "    client_indices = np.array_split(np.arange(len(train_dataset)), num_clients) \n",
    "    \n",
    "    for epoch in range(epochs):\n",
    "        local_weights = []\n",
    "        m = max(int(frac * num_clients), 1)\n",
    "        selected_clients = np.random.choice(range(num_clients), m, replace=False) #randomly selescts m clients\n",
    "        \n",
    "        for client in selected_clients:\n",
    "            local_model = copy.deepcopy(global_model)\n",
    "            local_model.to(device)\n",
    "            optimizer = torch.optim.SGD(local_model.parameters(), lr=0.01) #SGD\n",
    "            \n",
    "            train_loader = DataLoader(Subset(train_dataset, client_indices[client]), batch_size=64, shuffle=True)\n",
    "            train_local_model(local_model, device, train_loader, optimizer, epoch, mu, global_weights) #train the local model on the client's data\n",
    "            local_weights.append(local_model.state_dict())\n",
    "        \n",
    "        # Averaging local models\n",
    "        global_weights = {key: torch.stack([local_weights[i][key] for i in range(len(local_weights))]).mean(0) for key in global_weights.keys()}\n",
    "        global_model.load_state_dict(global_weights) #averaged weights are loaded back into the global model\n",
    "        \n",
    "        test_model(global_model, device, test_loader)\n",
    "\n",
    "#main.py runs the model with given parameters\n",
    "if __name__ == \"__main__\":\n",
    "    device = torch.device(\"cuda\" if torch.cuda.is_available() else \"cpu\")\n",
    "\n",
    "    # MNIST\n",
    "    train_dataset = torchvision.datasets.MNIST(root='./data', train=True, download=True, transform=ToTensor())\n",
    "    test_dataset = torchvision.datasets.MNIST(root='./data', train=False, download=True, transform=ToTensor())\n",
    "    test_loader = DataLoader(test_dataset, batch_size=1000, shuffle=False)\n",
    "\n",
    "    # Global model is preceptron\n",
    "    global_model = SimplePerceptron().to(device)\n",
    "\n",
    "    # fedprox-share training\n",
    "    fedprox_share_train(global_model, device, train_dataset, test_loader, epochs=20, mu=0.01, num_clients=100, frac=0.1)\n"
   ]
  },
  {
   "cell_type": "code",
   "execution_count": null,
   "id": "aaecf53a",
   "metadata": {},
   "outputs": [],
   "source": []
  }
 ],
 "metadata": {
  "kernelspec": {
   "display_name": "Python (pytorch_env)",
   "language": "python",
   "name": "pytorch_env"
  },
  "language_info": {
   "codemirror_mode": {
    "name": "ipython",
    "version": 3
   },
   "file_extension": ".py",
   "mimetype": "text/x-python",
   "name": "python",
   "nbconvert_exporter": "python",
   "pygments_lexer": "ipython3",
   "version": "3.12.1"
  },
  "toc": {
   "base_numbering": 1,
   "nav_menu": {},
   "number_sections": true,
   "sideBar": true,
   "skip_h1_title": false,
   "title_cell": "Table of Contents",
   "title_sidebar": "Contents",
   "toc_cell": false,
   "toc_position": {},
   "toc_section_display": true,
   "toc_window_display": false
  },
  "varInspector": {
   "cols": {
    "lenName": 16,
    "lenType": 16,
    "lenVar": 40
   },
   "kernels_config": {
    "python": {
     "delete_cmd_postfix": "",
     "delete_cmd_prefix": "del ",
     "library": "var_list.py",
     "varRefreshCmd": "print(var_dic_list())"
    },
    "r": {
     "delete_cmd_postfix": ") ",
     "delete_cmd_prefix": "rm(",
     "library": "var_list.r",
     "varRefreshCmd": "cat(var_dic_list()) "
    }
   },
   "types_to_exclude": [
    "module",
    "function",
    "builtin_function_or_method",
    "instance",
    "_Feature"
   ],
   "window_display": false
  }
 },
 "nbformat": 4,
 "nbformat_minor": 5
}
